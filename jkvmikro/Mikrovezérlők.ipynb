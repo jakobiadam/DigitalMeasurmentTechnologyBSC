{
 "cells": [
  {
   "cell_type": "markdown",
   "metadata": {},
   "source": [
    "# Mikrovezérlők\n",
    "\n",
    "A feladatok két csoportra bomlanak, egy része ismertető jellegű, kedvcsináló, a többi kreativitást, önálló gondolkodást és alkotást követel meg.\n",
    "Az ismertető feladatok elvégzése kötelező _(kf)_, ezeknél a mintaprogramot megosztjuk, az áramkört a hallgató építi össze.\n",
    "\n",
    "Fontos felhívnunk a figyelmet, hogy ez a mérés rendhagyó, itt nem születik a többi mérésnél szokásos jegyzőkönyv, hanem minden feladat összeállítása és élesztése után annak működését a laborvezetővel ellenőriztetni kell, és be kell számolni a tanulságokról.\n",
    "A kötelező feladatok hiánytalan megoldása a közepes (3) érdemjegy megszerzésére elegendő.\n",
    "A jó (4) érdemjegy megszerzéséhez a haladó feladatokból 2 pont, a jeles (5) érdemjegyhez további 2 pont megszerzése szükséges.\n",
    "\n",
    "A megoldások bemutatásánál nem kell ragaszkodni a feladatok kitűzési sorrendjéhez, a hallgató érdeke, hogy a rendelkezésre álló idővel helyesen gazdálkodjon."
   ]
  },
  {
   "cell_type": "markdown",
   "metadata": {},
   "source": [
    "## 1. Digitális I/O műveletek (kf) - 2 pont \n",
    "\n",
    "A feladat célja, hogy megismerkedjen a hallgató a mikrovezérlő digitális portjaival, azaz hogyan lehet egy kiválasztott portot olvasni, és egy másik rögzített portot írni.\n",
    "\n",
    "### Az építéshez szükséges alkatrészkészlet:\n",
    "\n",
    "* világító dióda _(LED)_: 1 db,\n",
    "* nyomógomb: 1 db,\n",
    "* ellenállások: 1 db 10 k$\\Omega$, 1 db 220 $\\Omega$.\n",
    "\n",
    "### Építési segédlet \n",
    "\n",
    "<img src=led-gomb.jpg alt=''>\n",
    "\n",
    "Az áramkörnek két része van a bemenetként szolgáló nyomógomb és a kimenetet jelentő LED. Mindkét alkatelem kötésénél egy-egy ellenállást kell beépíteni (áramkorlát, feszültség illesztés).\n",
    "\n",
    "### A vezérlő kód\n",
    "\n",
    "* [villogo.ino](examples/villogo.ino)"
   ]
  },
  {
   "cell_type": "markdown",
   "metadata": {},
   "source": [
    "## 2. Digitális I/O (haladó) - 4 pont\n",
    "\n",
    "Az előző feladatban megtanultak alapján fejlessze tovább a programot.\n",
    "Az új program célja, hogy egyszerű mintázat tárolására és visszajátszására megtanítsuk az eszközt.\n",
    "Egészítse ki a kapcsolást még egy nyomógombbal, egy visszajelző LED-del és a szükséges felhúzó illetve előtét ellenállásokkal.\n",
    "Lejátszó módban az eszköz egyik kijelzőjén ismételje folyamatosan az utoljára megtanult **,,ki-be-ki-be\\dots''** mintázatot.\n",
    "Legyen az első gomb szerepe, hogy tanuló módba kapcsoljuk az eszközt.\n",
    "Tanuló módban -- amit a második kijelző világítva jelez -- a másik gombbal bebillentyűzött mintázatot jegyezze meg a mikrovezérlő.\n",
    "A tanítás végeztével, a tanulásjelző húnyjon ki, és ismételgesse az eszköz ezt az új mintázatot az erre nevesített kijelzőjén mindaddig, amíg új mintát nem taníttatunk vele.\n",
    "\n",
    "_Megjegyzés:_ a kapcsoló pergésmentes beolvasására javasolt, hogy a szintek értéke helyett a szintváltozásokat használja időzítési információként."
   ]
  },
  {
   "cell_type": "markdown",
   "metadata": {},
   "source": [
    "## 3. PWM programozása (kf) - 1 pont\n",
    "\n",
    "A feladat célja, hogy megismerkedjünk az impulzusszélesség generátorral.\n",
    "Többek között analóg jelek előállítására használhatjuk az impulzusszélesség modulátor perifériát.\n",
    "Ilyenkor a keletkező négszögjel kitöltési tényezőjét amplitudóvá alakítandó a jelet simítani kell. \n",
    "\n",
    "### Az építéshez szükséges alkatrészkészlet\n",
    "\n",
    "* világító dióda _(LED)_: 1 db,\n",
    "* ellenállás: 1 db 220 $\\Omega$.\n",
    "\n",
    "### Az építési segédlet\n",
    "\n",
    "Kimenetnek egy LED-et használunk. A LED finom villogását az emberi szem tehetetlensége simítja, látszólag a dióda fényereje változik.\n",
    "\n",
    "### A vezérlő kód\n",
    "\n",
    "* [pwm.ino](examples/pwm.ino)"
   ]
  },
  {
   "cell_type": "markdown",
   "metadata": {},
   "source": [
    "## 4. Hullámforma generátor PWM-ből (haladó) - 4 pont\n",
    "\n",
    "A gyakorlatvezető által megadott paraméterezésű hullámforma előállítása a cél.\n",
    "Használjon alkalmasan választott aluláteresztő szűrőt a simításhoz, és győződjön meg róla oszcilloszkóp segítségével, hogy a célul kitűzött hullámformát valósítja meg összeállítása."
   ]
  },
  {
   "cell_type": "markdown",
   "metadata": {},
   "source": [
    "## 5. ADC és soros vonal írása (kf) - 2 pont\n",
    "\n",
    "A feladat célja, hogy megtanuljuk illeszteni az analóg jelet biztosító szenzorokat a mikrovezérlőhöz, valamint lássunk példát arra, hogy a leolvasott adatokat a PC felé küldjük soros kommunikációval.\n",
    "\n",
    "A PC oldalán a soros vonal olvasását legegyszerűbben az IDE-hez csatolt monitorral tudjuk megoldani, amit a **Tools > Serial Monitor** menüpont alatt érünk el.\n",
    "\n",
    "### Az építéshez szükséges alkatrészkészlet\n",
    "\n",
    "* változtatható ellenállás _(potencióméter)_: 1 db.\n",
    "\n",
    "### Az építési segédlet\n",
    "\n",
    "<img src='poti.jpg' alt=''>\n",
    "\n",
    "Ezzel az igen egyszerű kapcsolással emuláljuk egy analóg szenzor viselkedését.\n",
    "\n",
    "### A vezérlő kód\n",
    "\n",
    "* [adc.ino](examples/adc.ino)"
   ]
  },
  {
   "cell_type": "markdown",
   "metadata": {},
   "source": [
    "## 6. Folyadékkristályos kijelző illesztése (kf) - 3 pont\n",
    "\n",
    "A feladat célja, hogy összetettebb kijelző rendszert tudjunk a mikrovezérlőhöz kötni, és azon adatokat megjeleníteni.\n",
    "\n",
    "### Az építéshez szükséges alkatrészkészlet\n",
    "\n",
    "* kijelző _(LCD)_: 1 db,\n",
    "* döccenésérzékelő _(tilt switch)_: 1 db,\n",
    "\n",
    "### Az építési segédlet\n",
    "\n",
    "<img src=lcd.jpg alt=''>\n",
    "<img src=lcd.png alt='' width=33%>\n",
    "\n",
    "A kijelző beépítése és a helyes orientáció megválasztása kellő körültekintést követel: az 1-es láb a föld ($V_\\mathrm{ss}$), a 2-es láb a táp ($V_\\mathrm{cc}$).\n",
    "\n",
    "### A vezérlő kód\n",
    "\n",
    "* [lcd.ino](examples/lcd.ino)"
   ]
  },
  {
   "cell_type": "markdown",
   "metadata": {},
   "source": [
    "## 7. Hőmérő építése (haladó) - 2 pont\n",
    "\n",
    "Egészítsük ki az előző kapcsolást hőmérséklet érzékelő szenzorral, és a mért hőmérsékletértéket jelezzük a kijelzőn.\n",
    "A hőmérsékletérzékelő huzalozása az ábrát kell kövesse.\n",
    "Ez a szenzor háromláb: két lábára a tápfeszültséget kell kötni, a harmadik láb a mért hőmérséklettel monoton változik.\n",
    "Első közelítésben tekintsük lineárisnak a hőmérséklet--feszültség karakterisztikát.\n",
    "A szenzor tápellátására ($U_\\mathrm{supply}$) 2,7--5,5~V közé kell essen.\n",
    "\n",
    "<img src=\"tmp-sensor.jpg\" alt=\"tmp szenzor\" width=15%>\n",
    "\n",
    "A lábak bekötése ezt az orientációt követve: $U_\\mathrm{supply}$, $U_\\mathrm{sample}$, föld."
   ]
  },
  {
   "cell_type": "markdown",
   "metadata": {},
   "source": [
    "## 8. Fényérzékelő építése (haladó) - 4 pont\n",
    "\n",
    "Megfelelően sűrűn olvassa a mikrovezérlővel a próbapanelon egy sorba beépített fotoellenállások jelét.\n",
    "Írjon olyan programot, ami ha változást érzékel jelzi, jogy melyik irány volt a változásra jellemző. Ezt jelezze a PC felé soros vonalon."
   ]
  },
  {
   "cell_type": "markdown",
   "metadata": {},
   "source": [
    "## 9. Saját projekt ötlet (haladó)\n",
    "\n",
    "Találjon ki valami izgalmas, a rendelkezésére álló időben megvalósítható feladatot, melyet ha a gyakorlatvezető jóváhagy építsen meg és mutassa be."
   ]
  },
  {
   "cell_type": "code",
   "execution_count": null,
   "metadata": {},
   "outputs": [],
   "source": []
  }
 ],
 "metadata": {
  "hide_input": false,
  "kernelspec": {
   "display_name": "Python 3",
   "language": "python",
   "name": "python3"
  },
  "language_info": {
   "codemirror_mode": {
    "name": "ipython",
    "version": 3
   },
   "file_extension": ".py",
   "mimetype": "text/x-python",
   "name": "python",
   "nbconvert_exporter": "python",
   "pygments_lexer": "ipython3",
   "version": "3.7.3"
  },
  "latex_envs": {
   "bibliofile": "biblio.bib",
   "cite_by": "apalike",
   "current_citInitial": 1,
   "eqLabelWithNumbers": true,
   "eqNumInitial": 0
  }
 },
 "nbformat": 4,
 "nbformat_minor": 1
}

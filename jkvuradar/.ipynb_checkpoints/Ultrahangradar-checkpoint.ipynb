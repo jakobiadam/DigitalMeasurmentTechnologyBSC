{
 "cells": [
  {
   "cell_type": "markdown",
   "metadata": {},
   "source": [
    "# Mérés ultrahang radarral\n",
    "\n",
    "## 1. A hangsebesség közelítő meghatarozása - 2 pont\n",
    "\n",
    "Egy arra alkalmas négyszög jel (ún. trigger) gerjeszti az ultrahangot kibocsátó piezzo-kristályt. \n",
    "A gerjesztés hatására egy csirip keletkezik, ami tovaterjed, majd visszaverődés után detektálható.\n",
    "Vizsgálja meg a csirip és a visszavert jel alakjait oszcilloszkóp segítségével! \n",
    "Mérje meg, hogy mennyi idő telik el a triggerjel és a visszavert jel között. \n",
    "Első közelítésben feltéve, hogy a rendszer késleltetése elhanyagolható, a mért idő és a visszaverő felület távolságának ismeretében határozza meg a hangsebességet! \n",
    "*Megjegyzés:* adja meg a képletet, ami alapján számol és ne feledkezzen meg a hibák becsléséről sem!"
   ]
  },
  {
   "cell_type": "markdown",
   "metadata": {},
   "source": [
    "* A mért időkülönbség, $t=24 ms$\n",
    "* A visszaverő felület távolsága, $L=385 cm$\n",
    "* A hangsebesség közelítő értéke, $c=337.5 \\dfrac{m}{s}$"
   ]
  },
  {
   "cell_type": "code",
   "execution_count": 2,
   "metadata": {},
   "outputs": [],
   "source": [
    "#importok\n",
    "import matplotlib\n",
    "import matplotlib.pyplot as plt\n",
    "import numpy as np\n",
    "import math\n",
    "from scipy.optimize import curve_fit\n",
    "from scipy.io import wavfile"
   ]
  },
  {
   "cell_type": "code",
   "execution_count": 4,
   "metadata": {},
   "outputs": [
    {
     "data": {
      "text/plain": [
       "337.5"
      ]
     },
     "execution_count": 4,
     "metadata": {},
     "output_type": "execute_result"
    }
   ],
   "source": [
    "t=24/1000 #s\n",
    "l=0.8 #m, asztalrész hossza, amin mérem a madzag hosszát\n",
    "d=0.2 #m, a tükör és a jeladó/jelvevő távolsága\n",
    "L=4*l+0.65 #m\n",
    "S=2*(L+d)\n",
    "c=S/t\n",
    "c"
   ]
  },
  {
   "cell_type": "markdown",
   "metadata": {},
   "source": [
    "## 2. Kalibrációja és a hangsebesség pontosabb meghatározása - 4 pont\n",
    "\n",
    "A jel kibocsátása és visszaverődése között eltelt idő pontosabb meghatározására a hullámalakokat a számítógép hangkártyájával digitalizáljuk.\n",
    "Az ultrahang radart állítsa egy-egy adott, jól visszaverő irányba! \n",
    "*Javaslat:* közeli falakra merőleges és a sarkokat célzó nyalábok jól detektálhatóak.\n",
    "Vegyen fel kb. fél másodpercnyi jelet, 44,1 _kHz_ mintavételi frekvenciával egy arra alkalmas program az **audacity** segítségével.\n",
    "A mintában keresse meg a visszhang helyét!\n",
    "*Javaslat:* mérje meg, a hogy visszhang hány mintával később érkezik, mint a triggerjel eleje, és a különbségből következtessen az eltelt időre.\n",
    "A mérési adatokat gyűjtse táblázatba, ábrázolja azokat és illesszen rájuk egyenest."
   ]
  },
  {
   "cell_type": "markdown",
   "metadata": {},
   "source": [
    "|Mérés száma | Visszaverő felület távolsága | Visszhangjel ideje |\n",
    "|:-:|-:|-:|\n",
    "|1  |8.10  |0.0238  |\n",
    "|2  |7.02  |0.0201  |\n",
    "|3  |6.94  |0.0205  |\n",
    "|4  |12.48  |0.0368  |\n",
    "|5  |13.36  |0.0397  |\n",
    "|6  |5.88  |0.0161  |"
   ]
  },
  {
   "cell_type": "code",
   "execution_count": 8,
   "metadata": {},
   "outputs": [
    {
     "name": "stdout",
     "output_type": "stream",
     "text": [
      "S=\n",
      "8.1 m\n",
      "7.0200000000000005 m\n",
      "6.94 m\n",
      "12.48 m\n",
      "13.360000000000001 m\n",
      "5.88 m\n",
      "\n",
      "t=\n",
      "0.023786848072562358 s\n",
      "0.02095238095238095 s\n",
      "0.020521541950113378 s\n",
      "0.036825396825396824 s\n",
      "0.03972789115646259 s\n",
      "0.016077097505668936 s\n",
      "\n"
     ]
    }
   ],
   "source": [
    "t1=1049/44100 #s\n",
    "S1=S #m\n",
    "t2=924/44100 #s\n",
    "S2=2*(0.11+4*0.8+0.2) #m\n",
    "t3=905/44100 #s\n",
    "S3=2*(4*0.8+0.07+0.2) #m\n",
    "t4=1624/44100 #s\n",
    "S4=2*((0.8-0.045)*8+0.2) #m\n",
    "t5=1752/44100 #s\n",
    "S5=2*(0.81*8+0.2) #m\n",
    "t6=709/44100 #s\n",
    "S6=2*(2*(0.8+0.47)+0.4) #m\n",
    "\n",
    "t=np.array([t1,t2,t3,t4,t5,t6])\n",
    "S=np.array([S1,S2,S3,S4,S5,S6])\n",
    "\n",
    "print(\"S=\\n{} m\\n{} m\\n{} m\\n{} m\\n{} m\\n{} m\\n\".format(S1,S2,S3,S4,S5,S6))\n",
    "print(\"t=\\n{} s\\n{} s\\n{} s\\n{} s\\n{} s\\n{} s\\n\".format(t1,t2,t3,t4,t5,t6))"
   ]
  },
  {
   "cell_type": "code",
   "execution_count": 3,
   "metadata": {},
   "outputs": [],
   "source": [
    "def multiabra(lista,title):\n",
    "    f, axs = plt.subplots(len(lista)//2+len(lista)%2,2,figsize=(18,15))\n",
    "    f.subplots_adjust(hspace = 0.7, wspace=.2)\n",
    "    f.suptitle(title,fontsize=24)\n",
    "    axs = axs.ravel()\n",
    "    for i in range(len(lista)):\n",
    "        matplotlib.tight_layout\n",
    "        t=np.linspace(0,len(lista[i][1])/lista[i][0],len(lista[i][1]))\n",
    "        axs[i].plot(t,lista[i][1],label=\"mért pontok\",marker='.',markersize=1)\n",
    "        axs[i].title.set_text('track {}'.format(i+1))\n",
    "        axs[i].set_xlabel(\"t\",fontsize=18)\n",
    "        axs[i].set_ylabel(\"A\",fontsize=18)"
   ]
  },
  {
   "cell_type": "code",
   "execution_count": 11,
   "metadata": {},
   "outputs": [
    {
     "name": "stdout",
     "output_type": "stream",
     "text": [
      "a=327.2813834240507\n",
      "da=8.380882015243731\n",
      "b=0.35086064664652106\n",
      "db=0.23253078594322033\n"
     ]
    }
   ],
   "source": [
    "# ábrázolás és illesztés\n",
    "def lin(t,a,b):\n",
    "    return a*t+b\n",
    "\n",
    "a=334 #m/s\n",
    "b=1\n",
    "popt,pcov=curve_fit(lin,t,S,p0=[a,b])\n",
    "perr = np.sqrt(np.diag(pcov))      # az illesztési paraméterek hibáinak meghatározása\n",
    "a=popt[0]\n",
    "da=perr[0]\n",
    "b=popt[1]\n",
    "db=perr[1]\n",
    "print (\"a={}\".format(a))\n",
    "print (\"da={}\".format(da))\n",
    "print (\"b={}\".format(b))\n",
    "print (\"db={}\".format(db))"
   ]
  },
  {
   "cell_type": "code",
   "execution_count": 13,
   "metadata": {},
   "outputs": [
    {
     "data": {
      "text/plain": [
       "Text(0,0.5,'S [m]')"
      ]
     },
     "execution_count": 13,
     "metadata": {},
     "output_type": "execute_result"
    },
    {
     "data": {
      "image/png": "[encoded data removed]",
      "text/plain": [
       "<Figure size 864x576 with 1 Axes>"
      ]
     },
     "metadata": {},
     "output_type": "display_data"
    }
   ],
   "source": [
    "plt.figure(figsize=(12,8))\n",
    "plt.plot(t,S,'o',label='adatpontok')\n",
    "plt.plot(t,lin(t,*popt),label='illesztes')\n",
    "plt.title('Hangsebesség, mint t-S meredeksége',fontsize=24)\n",
    "plt.xlabel(\"t [s]\",fontsize=18)\n",
    "plt.ylabel(\"S [m]\",fontsize=18)"
   ]
  },
  {
   "cell_type": "markdown",
   "metadata": {},
   "source": [
    "Az illesztett modell paramétereiből határozza meg a rendszer késleltetését és a hangsebességet.\n",
    "* Az illesztett modell egyenlete: S=a*t+b\n",
    "* A hangsebesség értéke:327.28 m/s\n",
    "* A rendszer késleltetése:0.35 m ->0.35/327.28=0.0011 s"
   ]
  },
  {
   "cell_type": "code",
   "execution_count": 15,
   "metadata": {},
   "outputs": [
    {
     "data": {
      "text/plain": [
       "0.0010720458431695127"
      ]
     },
     "execution_count": 15,
     "metadata": {},
     "output_type": "execute_result"
    }
   ],
   "source": [
    "v=a\n",
    "dv=da\n",
    "kesleltetes=b\n",
    "dkesleltetes=db\n",
    "tkesleltetes=b/a\n",
    "tkesleltetes"
   ]
  },
  {
   "cell_type": "markdown",
   "metadata": {},
   "source": [
    "## 3. A visszavert jel intenzitásának szögfüggése - 4 pont\n",
    "\n",
    "Válasszon ki egy jól visszaverő közeli falfelületet. \n",
    "A léptetőmotort egyenként léptetve, tapogassa le a falat. \n",
    "Egy-egy rögzített irányban a mérés bizonytalansága nagy, akár 20-30%-t is szór csiripenként az amplitudó maximuma a keverőjel fázisától függően. \n",
    "*Javaslat:* érdemes tehát mindegyik irányban megnézni, hogy több visszaverődés közül mekkora a jel legnagyobb értéke.\n",
    "\n",
    "Illesszen az adatokra egy arra alkalmas függvényt!"
   ]
  },
  {
   "cell_type": "code",
   "execution_count": 30,
   "metadata": {},
   "outputs": [],
   "source": [
    "def beolv(nev,db):\n",
    "    '''.wav file beolvasás listába, nev feladat alapján, sorszám 1-től '''\n",
    "    lista=[]\n",
    "    for i in range(db):\n",
    "        fs,data=wavfile.read('{}{}.wav'.format(nev,i+1))\n",
    "        lista.append([fs,data])\n",
    "    return lista"
   ]
  },
  {
   "cell_type": "code",
   "execution_count": 31,
   "metadata": {},
   "outputs": [],
   "source": [
    "wavlist=beolv(\"intenzitas(3)/int\",30)"
   ]
  },
  {
   "cell_type": "code",
   "execution_count": 33,
   "metadata": {},
   "outputs": [
    {
     "data": {
      "text/plain": [
       "array([[-9, -6],\n",
       "       [-9, -6],\n",
       "       [-7, -3],\n",
       "       ...,\n",
       "       [ 0,  1],\n",
       "       [-4,  1],\n",
       "       [ 2, -1]], dtype=int16)"
      ]
     },
     "execution_count": 33,
     "metadata": {},
     "output_type": "execute_result"
    }
   ],
   "source": [
    "wavlist[0][1][1]"
   ]
  },
  {
   "cell_type": "code",
   "execution_count": 44,
   "metadata": {},
   "outputs": [
    {
     "data": {
      "text/plain": [
       "[<matplotlib.lines.Line2D at 0x7f5e71f35278>]"
      ]
     },
     "execution_count": 44,
     "metadata": {},
     "output_type": "execute_result"
    },
    {
     "data": {
      "image/png": "[encoded data removed]",
      "text/plain": [
       "<Figure size 432x288 with 1 Axes>"
      ]
     },
     "metadata": {},
     "output_type": "display_data"
    }
   ],
   "source": [
    "plt.plot(wavlist[20][1][3500:4800,1])"
   ]
  },
  {
   "cell_type": "code",
   "execution_count": null,
   "metadata": {},
   "outputs": [],
   "source": []
  },
  {
   "cell_type": "code",
   "execution_count": 49,
   "metadata": {},
   "outputs": [],
   "source": [
    "jel=wavlist[20][1][4050:4110,1]"
   ]
  },
  {
   "cell_type": "code",
   "execution_count": 57,
   "metadata": {},
   "outputs": [
    {
     "data": {
      "text/plain": [
       "[<matplotlib.lines.Line2D at 0x7f5e71c185c0>]"
      ]
     },
     "execution_count": 57,
     "metadata": {},
     "output_type": "execute_result"
    },
    {
     "data": {
      "image/png": "[encoded data removed]",
      "text/plain": [
       "<Figure size 432x288 with 1 Axes>"
      ]
     },
     "metadata": {},
     "output_type": "display_data"
    }
   ],
   "source": [
    "plt.plot(jel)"
   ]
  },
  {
   "cell_type": "code",
   "execution_count": 53,
   "metadata": {},
   "outputs": [
    {
     "data": {
      "text/plain": [
       "76.84749999999995"
      ]
     },
     "execution_count": 53,
     "metadata": {},
     "output_type": "execute_result"
    }
   ],
   "source": [
    "sum((jel-jel.mean())**2)/len(jel)"
   ]
  },
  {
   "cell_type": "code",
   "execution_count": 59,
   "metadata": {},
   "outputs": [
    {
     "data": {
      "text/plain": [
       "22.5"
      ]
     },
     "execution_count": 59,
     "metadata": {},
     "output_type": "execute_result"
    }
   ],
   "source": [
    "j0=jel-jel.mean()\n",
    ".5*(j0.max() -j0.min())"
   ]
  },
  {
   "cell_type": "markdown",
   "metadata": {},
   "source": [
    "|Mérés száma | Elfordulás | Amplitúdó |\n",
    "|:-:|-:|-:|\n",
    "|1  |  |  |\n",
    "|2  |  |  |\n",
    "|3  |  |  |\n",
    "|4  |  |  |\n",
    "|5  |  |  |\n",
    "|6  |  |  |\n",
    "|7  |  |  |\n",
    "|8  |  |  |\n",
    "|9  |  |  |\n",
    "|10 |  |  |\n",
    "|11 |  |  |"
   ]
  },
  {
   "cell_type": "code",
   "execution_count": null,
   "metadata": {
    "collapsed": true
   },
   "outputs": [],
   "source": [
    "# ábrázolás és illesztés"
   ]
  },
  {
   "cell_type": "markdown",
   "metadata": {},
   "source": [
    "* Az illesztett modell egyenlete:\n",
    "* Az illesztés paramétereinek értéke:\n",
    "* Ebből a szögfelbontás becsült értéke:"
   ]
  },
  {
   "cell_type": "markdown",
   "metadata": {},
   "source": [
    "## 4. A csirip spektrumának vizsgálata - 5 pont\n",
    "\n",
    "A rögzített adatokból emelje ki egy visszavert jel hullámcsomagját és végezze el a Fourier-transzformációját. \n",
    "A hullámcsomag Fourier-spektruma jellegzetes maximummal rendelkezik.\n",
    "Mekkora frekvenciánál van ez a maximum, és mekkora a jel sávszélessége.\n",
    "*Megjegyzés:* sávszélesség alatt a maximumhoz képest -3 dB esést felölelő tartományt értjük.\n",
    "\n",
    "* A spektrum maximuma, $f=$\n",
    "* Az alsó sávhatár, $f_\\mathrm{min}=$\n",
    "* A felső sávhatár, $f_\\mathrm{max}=$\n",
    "* A jel sávszélessége, $C=$\n",
    "\n",
    "Hogyan tudna több visszavert hullámcsomagból pontosabb eredményre jutni?\n"
   ]
  },
  {
   "cell_type": "markdown",
   "metadata": {},
   "source": [
    "## 5. Speciális szórócentrumok visszaverőképességének vizsgálata - 3 pont\n",
    "\n",
    "Mérje meg három kiválasztott visszaverő objektum -- gömb, sík (0$^\\circ$ és 45$^\\circ$), saroktükör, érdes felület -- relatív visszaverőképességét.\n",
    "Tekintse egységnyinek a 90$^\\circ$ álló síkfelületet (maximális visszaverőképesség). "
   ]
  },
  {
   "cell_type": "markdown",
   "metadata": {},
   "source": [
    "**A vizsgált szórócentrumok relatív visszaverőképessége**"
   ]
  },
  {
   "cell_type": "markdown",
   "metadata": {},
   "source": [
    "Hogyan korrigálhatja a fenti számokat, ha nem egyforma távol helyezte el a visszaverő felületeket?"
   ]
  },
  {
   "cell_type": "markdown",
   "metadata": {},
   "source": [
    "**Válasz helye.**"
   ]
  },
  {
   "cell_type": "markdown",
   "metadata": {},
   "source": [
    "## 6. A terem alaprajzának analízise - 6 pont\n",
    "\n",
    "Rögzítse a mintasorozatot, miközben az ultrahang radar legalább egy teljes kört jár be. \n",
    "\n",
    "Készítsen `python` eljárást, amellyel a terem alaprajza elkészíthető a hangfájlba rögzített adatokra támaszkodva."
   ]
  },
  {
   "cell_type": "code",
   "execution_count": null,
   "metadata": {},
   "outputs": [],
   "source": [
    "# eljárás helye"
   ]
  },
  {
   "cell_type": "code",
   "execution_count": null,
   "metadata": {},
   "outputs": [],
   "source": [
    "# alaprajzábra"
   ]
  }
 ],
 "metadata": {
  "hide_input": false,
  "kernelspec": {
   "display_name": "Python 3",
   "language": "python",
   "name": "python3"
  },
  "language_info": {
   "codemirror_mode": {
    "name": "ipython",
    "version": 3
   },
   "file_extension": ".py",
   "mimetype": "text/x-python",
   "name": "python",
   "nbconvert_exporter": "python",
   "pygments_lexer": "ipython3",
   "version": "3.6.5"
  },
  "latex_envs": {
   "bibliofile": "biblio.bib",
   "cite_by": "apalike",
   "current_citInitial": 1,
   "eqLabelWithNumbers": true,
   "eqNumInitial": 0
  }
 },
 "nbformat": 4,
 "nbformat_minor": 1
}
